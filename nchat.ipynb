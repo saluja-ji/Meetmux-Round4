{
 "cells": [
  {
   "cell_type": "code",
   "execution_count": 1,
   "id": "9a21033c",
   "metadata": {},
   "outputs": [
    {
     "name": "stderr",
     "output_type": "stream",
     "text": [
      "/home/pushpit-saluja/ML/venv/lib/python3.12/site-packages/tqdm/auto.py:21: TqdmWarning: IProgress not found. Please update jupyter and ipywidgets. See https://ipywidgets.readthedocs.io/en/stable/user_install.html\n",
      "  from .autonotebook import tqdm as notebook_tqdm\n"
     ]
    },
    {
     "ename": "ImportError",
     "evalue": "cannot import name 'AdamW' from 'transformers' (/home/pushpit-saluja/ML/venv/lib/python3.12/site-packages/transformers/__init__.py)",
     "output_type": "error",
     "traceback": [
      "\u001b[31m---------------------------------------------------------------------------\u001b[39m",
      "\u001b[31mImportError\u001b[39m                               Traceback (most recent call last)",
      "\u001b[36mCell\u001b[39m\u001b[36m \u001b[39m\u001b[32mIn[1]\u001b[39m\u001b[32m, line 6\u001b[39m\n\u001b[32m      4\u001b[39m \u001b[38;5;28;01mimport\u001b[39;00m\u001b[38;5;250m \u001b[39m\u001b[34;01mtorch\u001b[39;00m\n\u001b[32m      5\u001b[39m \u001b[38;5;28;01mfrom\u001b[39;00m\u001b[38;5;250m \u001b[39m\u001b[34;01mtorch\u001b[39;00m\u001b[34;01m.\u001b[39;00m\u001b[34;01mutils\u001b[39;00m\u001b[34;01m.\u001b[39;00m\u001b[34;01mdata\u001b[39;00m\u001b[38;5;250m \u001b[39m\u001b[38;5;28;01mimport\u001b[39;00m Dataset, DataLoader\n\u001b[32m----> \u001b[39m\u001b[32m6\u001b[39m \u001b[38;5;28;01mfrom\u001b[39;00m\u001b[38;5;250m \u001b[39m\u001b[34;01mtransformers\u001b[39;00m\u001b[38;5;250m \u001b[39m\u001b[38;5;28;01mimport\u001b[39;00m (\n\u001b[32m      7\u001b[39m     GPT2Tokenizer,\n\u001b[32m      8\u001b[39m     GPT2LMHeadModel,\n\u001b[32m      9\u001b[39m     AdamW,\n\u001b[32m     10\u001b[39m     get_linear_schedule_with_warmup\n\u001b[32m     11\u001b[39m )\n\u001b[32m     12\u001b[39m \u001b[38;5;28;01mimport\u001b[39;00m\u001b[38;5;250m \u001b[39m\u001b[34;01mjoblib\u001b[39;00m \u001b[38;5;66;03m# For saving/loading as requested, though not ideal for PyTorch models\u001b[39;00m\n\u001b[32m     13\u001b[39m \u001b[38;5;28;01mimport\u001b[39;00m\u001b[38;5;250m \u001b[39m\u001b[34;01mos\u001b[39;00m\n",
      "\u001b[31mImportError\u001b[39m: cannot import name 'AdamW' from 'transformers' (/home/pushpit-saluja/ML/venv/lib/python3.12/site-packages/transformers/__init__.py)"
     ]
    }
   ],
   "source": [
    "# --- Core Libraries ---\n",
    "import pandas as pd\n",
    "import numpy as np\n",
    "import torch\n",
    "from torch.utils.data import Dataset, DataLoader\n",
    "from transformers import (\n",
    "    GPT2Tokenizer,\n",
    "    GPT2LMHeadModel,\n",
    "    AdamW,\n",
    "    get_linear_schedule_with_warmup\n",
    ")\n",
    "import joblib # For saving/loading as requested, though not ideal for PyTorch models\n",
    "import os\n",
    "from tqdm import tqdm\n",
    "\n",
    "# --- For Evaluation (Conceptual) ---\n",
    "from nltk.translate.bleu_score import sentence_bleu\n",
    "\n",
    "# --- Set a seed for reproducibility ---\n",
    "np.random.seed(42)\n",
    "torch.manual_seed(42)\n",
    "if torch.cuda.is_available():\n",
    "    torch.cuda.manual_seed_all(42)\n",
    "\n",
    "print(\"Libraries imported successfully.\")"
   ]
  },
  {
   "cell_type": "code",
   "execution_count": null,
   "metadata": {},
   "outputs": [],
   "source": [
    "# --- Load the dataset ---\n",
    "# In a real scenario, you would use the provided path.\n",
    "# For this example, we'll use the content from the prompt.\n",
    "# Let's simulate the file loading.\n",
    "from io import StringIO\n",
    "\n",
    "csv_content = \"\"\"Conversation ID,Timestamp,Sender,Message\n",
    "1,2025-10-07 10:15:12,User B,\"Hey, did you see the client's feedback on the mockups?\"\n",
    "1,2025-10-07 10:15:45,User A,\"Just saw it. They want a lot of changes to the color scheme.\"\n",
    "1,2025-10-07 10:16:05,User B,\"Yeah, that's what I was thinking. It's a big shift from the original brief.\"\n",
    "1,2025-10-07 10:16:38,User A,\"I'll start on the revisions. Can you update the project timeline?\"\n",
    "1,2025-10-07 10:17:01,User B,\"Will do. I'll block out the rest of the week for it.\"\n",
    "2,2025-10-07 10:20:19,User B,\"Any plans for Saturday?\"\n",
    "2,2025-10-07 10:20:41,User A,\"Not yet, was thinking of heading to the new bookstore in Swaroop Nagar.\"\n",
    "2,2025-10-07 10:21:03,User B,\"Oh, the one near the park? I heard it's great.\"\n",
    "2,2025-10-07 10:21:25,User A,\"Yeah, that's the one. Want to join?\"\n",
    "2,2025-10-07 10:21:39,User B,\"Sounds good! What time?\"\n",
    "2,2025-10-07 10:22:00,User A,\"How about around 3 PM?\"\n",
    "3,2025-10-07 10:25:05,User A,\"Are you free? My laptop just went blank.\"\n",
    "3,2025-10-07 10:25:21,User B,\"Oh no. Did you try a hard reboot?\"\n",
    "3,2025-10-07 10:25:48,User A,\"Tried it twice. Nothing.\"\n",
    "3,2025-10-07 10:26:10,User B,\"Okay, try connecting it to an external monitor. Maybe the display is the issue.\"\n",
    "3,2025-10-07 10:26:33,User A,\"Good idea, let me find a cable.\"\n",
    "3,2025-10-07 10:26:59,User B,\"Let me know if that works. If not, we might have to call IT.\"\n",
    "4,2025-10-07 10:28:15,User A,\"Finally watched that new sci-fi movie everyone's talking about.\"\n",
    "4,2025-10-07 10:28:44,User B,\"Nice! What did you think? I loved the visuals.\"\n",
    "4,2025-10-07 10:29:11,User A,\"Visuals were amazing, but the plot was a bit predictable for me.\"\n",
    "4,2025-10-07 10:29:50,User B,\"I can see that. The ending felt a bit rushed. Still a fun watch though.\"\n",
    "4,2025-10-07 10:30:17,User A,\"Definitely. Worth it just for the big screen experience.\"\n",
    "\"\"\"\n",
    "\n",
    "df = pd.read_csv(StringIO(csv_content))\n",
    "\n",
    "# --- Define special tokens ---\n",
    "USER_A_TOKEN = \"<|userA|>\"\n",
    "USER_B_TOKEN = \"<|userB|>\"\n",
    "END_OF_TEXT_TOKEN = \"<|endoftext|>\"\n",
    "\n",
    "# --- Process the data ---\n",
    "# We'll create a single string for each conversation instance that leads to a reply from User A.\n",
    "# The format will be: <|userB|> message <|userA|> reply <|endoftext|>\n",
    "training_samples = []\n",
    "grouped = df.groupby(\"Conversation ID\")\n",
    "\n",
    "for _, group in grouped:\n",
    "    conversation_history = \"\"\n",
    "    messages = group.to_dict('records')\n",
    "    \n",
    "    for i in range(len(messages)):\n",
    "        sender = messages[i]['Sender']\n",
    "        message = messages[i]['Message'].strip()\n",
    "        \n",
    "        # We are looking for sequences where User B speaks, and then User A replies.\n",
    "        # This pair becomes a training instance.\n",
    "        if sender == 'User B' and i + 1 < len(messages) and messages[i+1]['Sender'] == 'User A':\n",
    "            # Context is the current message from User B\n",
    "            context_msg = messages[i]['Message'].strip()\n",
    "            # Reply is the next message from User A\n",
    "            reply_msg = messages[i+1]['Message'].strip()\n",
    "            \n",
    "            # Format: Previous history + current turn\n",
    "            # For simplicity with this small dataset, we'll just use the immediate turn as context.\n",
    "            # For a larger dataset, you'd include more of `conversation_history`.\n",
    "            sample = f\"{USER_B_TOKEN} {context_msg} {USER_A_TOKEN} {reply_msg} {END_OF_TEXT_TOKEN}\"\n",
    "            training_samples.append(sample)\n",
    "\n",
    "        # Update conversation history (not used in the simple logic above, but good practice)\n",
    "        token = USER_A_TOKEN if sender == 'User A' else USER_B_TOKEN\n",
    "        conversation_history += f\"{token} {message} \"\n",
    "\n",
    "print(f\"Created {len(training_samples)} training samples.\")\n",
    "print(\"Example sample:\")\n",
    "print(training_samples[0])"
   ]
  },
  {
   "cell_type": "code",
   "execution_count": null,
   "id": "c903a952",
   "metadata": {},
   "outputs": [],
   "source": []
  },
  {
   "cell_type": "code",
   "execution_count": null,
   "metadata": {},
   "outputs": [],
   "source": []
  },
  {
   "cell_type": "code",
   "execution_count": null,
   "id": "09b2f28a",
   "metadata": {},
   "outputs": [],
   "source": []
  }
 ],
 "metadata": {
  "kernelspec": {
   "display_name": "venv (3.12.3)",
   "language": "python",
   "name": "python3"
  },
  "language_info": {
   "codemirror_mode": {
    "name": "ipython",
    "version": 3
   },
   "file_extension": ".py",
   "mimetype": "text/x-python",
   "name": "python",
   "nbconvert_exporter": "python",
   "pygments_lexer": "ipython3",
   "version": "3.12.3"
  }
 },
 "nbformat": 4,
 "nbformat_minor": 5
}
